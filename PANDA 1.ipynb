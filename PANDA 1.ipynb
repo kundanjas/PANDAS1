{
 "cells": [
  {
   "cell_type": "code",
   "execution_count": null,
   "id": "e31059b4-1a97-4315-bfe9-fb77b0a26c80",
   "metadata": {},
   "outputs": [],
   "source": [
    "Q1. List any five functions of the pandas library with execution."
   ]
  },
  {
   "cell_type": "code",
   "execution_count": 1,
   "id": "7965e1cf-260a-4b48-b786-1d334d87b390",
   "metadata": {},
   "outputs": [],
   "source": [
    "import pandas as pd"
   ]
  },
  {
   "cell_type": "markdown",
   "id": "c696d4cd-df5b-48c5-ba7a-3a2c6ab0a073",
   "metadata": {},
   "source": [
    "df=pd.read_csv('data.csv')\n",
    "print(df.head())"
   ]
  },
  {
   "cell_type": "code",
   "execution_count": null,
   "id": "d98f07e1-349e-4d09-ab6c-619fbc991329",
   "metadata": {},
   "outputs": [],
   "source": [
    "2.head()"
   ]
  },
  {
   "cell_type": "code",
   "execution_count": 3,
   "id": "284b6e7c-2b80-4b8c-bbf6-ac71f0a33d9b",
   "metadata": {},
   "outputs": [],
   "source": [
    "import pandas as pd"
   ]
  },
  {
   "cell_type": "code",
   "execution_count": 4,
   "id": "bfc53592-6426-450b-9108-0b4251b5d000",
   "metadata": {},
   "outputs": [
    {
     "name": "stdout",
     "output_type": "stream",
     "text": [
      "      Name  Age\n",
      "0    Alice   24\n",
      "1      Bob   27\n",
      "2  Charlie   22\n"
     ]
    }
   ],
   "source": [
    "data = {'Name':['Alice','Bob','Charlie','David','Eva'],\n",
    "        'Age':[24,27,22,32,29]}\n",
    "df = pd.DataFrame(data)\n",
    "print(df.head(3))"
   ]
  },
  {
   "cell_type": "code",
   "execution_count": null,
   "id": "52464fb2-6c62-45ae-83a8-6047c0198eb1",
   "metadata": {},
   "outputs": [],
   "source": [
    "3.describe()"
   ]
  },
  {
   "cell_type": "code",
   "execution_count": 5,
   "id": "6e030797-aa19-4100-a0cc-63039a8b5dc7",
   "metadata": {},
   "outputs": [],
   "source": [
    "import pandas as pd"
   ]
  },
  {
   "cell_type": "code",
   "execution_count": 6,
   "id": "c128ae9f-72e2-46a0-88cf-b79014917cee",
   "metadata": {},
   "outputs": [
    {
     "name": "stdout",
     "output_type": "stream",
     "text": [
      "             Age        Salary\n",
      "count   5.000000      5.000000\n",
      "mean   26.800000  58400.000000\n",
      "std     3.962323   5941.380311\n",
      "min    22.000000  50000.000000\n",
      "25%    24.000000  55000.000000\n",
      "50%    27.000000  60000.000000\n",
      "75%    29.000000  62000.000000\n",
      "max    32.000000  65000.000000\n"
     ]
    }
   ],
   "source": [
    "data = {'Name':['Alice','Bob','Charlie','David','Eva'],\n",
    "        'Age':[24,27,22,32,29],\n",
    "        'Salary':[50000,60000,55000,65000,62000]}\n",
    "df = pd.DataFrame(data)\n",
    "print(df.describe())"
   ]
  },
  {
   "cell_type": "code",
   "execution_count": 7,
   "id": "9d2da595-cc1b-4a22-ac20-2f9e9df5dace",
   "metadata": {},
   "outputs": [],
   "source": [
    "import pandas as pd"
   ]
  },
  {
   "cell_type": "code",
   "execution_count": 8,
   "id": "97aa1a3e-2609-4d9a-b135-17cfc334c3f3",
   "metadata": {},
   "outputs": [
    {
     "name": "stdout",
     "output_type": "stream",
     "text": [
      "             Salary\n",
      "count      5.000000\n",
      "mean   58400.000000\n",
      "std     5941.380311\n",
      "min    50000.000000\n",
      "25%    55000.000000\n",
      "50%    60000.000000\n",
      "75%    62000.000000\n",
      "max    65000.000000\n"
     ]
    }
   ],
   "source": [
    "data = {'Department':['HR','Finance','IT','Finance','HR'],\n",
    "        'Employee':['Alice','Bob','Charlie','David','Eva'],\n",
    "        'Salary':[50000,60000,55000,65000,62000]}\n",
    "df = pd.DataFrame(data)\n",
    "grouped_df = df.groupby('Department')['Salary'].mean()\n",
    "print(df.describe())"
   ]
  },
  {
   "cell_type": "code",
   "execution_count": null,
   "id": "93db5d06-610a-445b-95cc-fac1e9cb8f48",
   "metadata": {},
   "outputs": [],
   "source": [
    "5.Merge()"
   ]
  },
  {
   "cell_type": "code",
   "execution_count": 9,
   "id": "1a843f3b-15f0-4270-bbda-ecb9e8212178",
   "metadata": {},
   "outputs": [],
   "source": [
    "import pandas as pd"
   ]
  },
  {
   "cell_type": "code",
   "execution_count": 10,
   "id": "f87c9b3a-2ae6-4656-95fa-a5cc7794c69d",
   "metadata": {},
   "outputs": [
    {
     "name": "stdout",
     "output_type": "stream",
     "text": [
      "  Employee Department  Salary\n",
      "0    Alice         HR   50000\n",
      "1      Bob    Finance   60000\n",
      "2  Charlie         IT   55000\n"
     ]
    }
   ],
   "source": [
    "df1 = pd.DataFrame({'Employee':['Alice','Bob','Charlie'],\n",
    "                    'Department':['HR','Finance','IT']})\n",
    "\n",
    "df2 = pd.DataFrame({'Employee':['Alice','Bob','Charlie'],\n",
    "                    'Salary':[50000,60000,55000]})\n",
    "\n",
    "merged_df = pd.merge(df1,df2, on = 'Employee')\n",
    "print(merged_df)\n",
    "                    "
   ]
  },
  {
   "cell_type": "code",
   "execution_count": null,
   "id": "3843a3e7-d5e1-4304-837a-ba206ea15a41",
   "metadata": {},
   "outputs": [],
   "source": [
    "Q2. Given a Pandas DataFrame df with columns 'A', 'B', and 'C', write a Python function to re-index the\n",
    "DataFrame with a new index that starts from 1 and increments by 2 for each row."
   ]
  },
  {
   "cell_type": "code",
   "execution_count": 11,
   "id": "1127d9c3-ac2a-4486-8471-b95b2116bdb5",
   "metadata": {},
   "outputs": [],
   "source": [
    "import pandas as pd"
   ]
  },
  {
   "cell_type": "code",
   "execution_count": null,
   "id": "4446602b-9252-47d6-bf61-9d6bfda6f225",
   "metadata": {},
   "outputs": [],
   "source": [
    "def reindex_dataframe(df):\n",
    "    new_index = range(1,2 * len(df)+1,2)\n",
    "    df.index = new_index\n",
    "    \n",
    "    return df\n",
    "data = {'A':[10,20,30],'B':[40,50,60] 'c':[70,80,90]}\n",
    "df=pd.DataFrame(data)\n",
    "df_reindexed = reindex_dataframe(df)\n",
    "print(df_reindex"
   ]
  },
  {
   "cell_type": "code",
   "execution_count": null,
   "id": "90579125-7b34-4acc-90c8-fe7cc892ba7e",
   "metadata": {},
   "outputs": [],
   "source": [
    "Q3. You have a Pandas DataFrame df with a column named 'Values'. Write a Python function that\n",
    "iterates over the DataFrame and calculates the sum of the first three values in the 'Values' column. The\n",
    "function should print the sum to the console."
   ]
  },
  {
   "cell_type": "code",
   "execution_count": 12,
   "id": "489d7d25-b7a2-463a-a1e0-7955969c632b",
   "metadata": {},
   "outputs": [],
   "source": [
    "import pandas as pd"
   ]
  },
  {
   "cell_type": "code",
   "execution_count": 14,
   "id": "1c1fc774-1b62-432e-803f-134844d16d39",
   "metadata": {},
   "outputs": [
    {
     "name": "stdout",
     "output_type": "stream",
     "text": [
      "60\n"
     ]
    }
   ],
   "source": [
    "def sum_first_three_values(df):\n",
    "    if len(df) < 3:\n",
    "        print(\"The DataFrame does not contain at least three value in the 'Value'column.\")\n",
    "        return\n",
    "    sum_values = df['Value'].iloc[0]+df['Value'].iloc[1]+df['Value'].iloc[2]\n",
    "    print(sum_values)\n",
    "    \n",
    "    \n",
    "    \n",
    "    \n",
    "\n",
    "\n",
    "df = pd.DataFrame({'Value':[10,20,30,40,50]})\n",
    "sum_first_three_values(df)"
   ]
  },
  {
   "cell_type": "code",
   "execution_count": null,
   "id": "cb0d2fc1-cdd1-48be-b103-1270955ce68d",
   "metadata": {},
   "outputs": [],
   "source": [
    "Q4. Given a Pandas DataFrame df with a column 'Text', write a Python function to create a new column\n",
    "'Word_Count' that contains the number of words in each row of the 'Text' column."
   ]
  },
  {
   "cell_type": "code",
   "execution_count": 15,
   "id": "b25ee3fb-752c-4390-a759-fbf9257dde01",
   "metadata": {},
   "outputs": [],
   "source": [
    "import pandas as pd"
   ]
  },
  {
   "cell_type": "code",
   "execution_count": 16,
   "id": "611759b6-b101-40d8-aabd-85301a930d52",
   "metadata": {},
   "outputs": [
    {
     "name": "stdout",
     "output_type": "stream",
     "text": [
      "              Text  Word_Count\n",
      "0      Hello world           2\n",
      "1   This is a test           4\n",
      "2  Pandas is great           3\n"
     ]
    }
   ],
   "source": [
    "def add_word_count_column(df):\n",
    "    def word_count(text):\n",
    "        return len(text.split())\n",
    "    df['Word_Count'] = df['Text'].apply(word_count)\n",
    "    \n",
    "    return df\n",
    "df= pd.DataFrame({'Text':['Hello world','This is a test','Pandas is great']})\n",
    "df =add_word_count_column(df)\n",
    "print(df)"
   ]
  },
  {
   "cell_type": "code",
   "execution_count": null,
   "id": "7363beb3-da24-45be-b715-81386c21a879",
   "metadata": {},
   "outputs": [],
   "source": [
    "Q5. How are DataFrame.size() and DataFrame.shape() different?"
   ]
  },
  {
   "cell_type": "code",
   "execution_count": 1,
   "id": "c468b717-90ba-4765-ae69-bd699880a747",
   "metadata": {},
   "outputs": [],
   "source": [
    "import pandas as pd"
   ]
  },
  {
   "cell_type": "code",
   "execution_count": 2,
   "id": "31cbc0cb-fc70-4078-84c4-d31c347ffd9e",
   "metadata": {},
   "outputs": [
    {
     "name": "stdout",
     "output_type": "stream",
     "text": [
      "Size of DataFrame: 9\n"
     ]
    }
   ],
   "source": [
    "df=pd.DataFrame({'A':[1,2,3],\n",
    "                 'B':[4,5,6],\n",
    "                 'C':[7,8,9]})\n",
    "print(\"Size of DataFrame:\",df.size)\n",
    "                 "
   ]
  },
  {
   "cell_type": "code",
   "execution_count": 4,
   "id": "4157ff1a-1650-46e3-aed6-bd2d4af87520",
   "metadata": {},
   "outputs": [
    {
     "name": "stdout",
     "output_type": "stream",
     "text": [
      "Shape of DataFrame: (3, 3)\n"
     ]
    }
   ],
   "source": [
    "print(\"Shape of DataFrame:\",df.shape)"
   ]
  },
  {
   "cell_type": "code",
   "execution_count": null,
   "id": "cd22ea13-82ee-42ea-b4cc-f6e2007b5a44",
   "metadata": {},
   "outputs": [],
   "source": [
    "Q6. Which function of pandas do we use to read an excel file?"
   ]
  },
  {
   "cell_type": "code",
   "execution_count": 5,
   "id": "78b47991-b6d3-4e8f-84b6-224f50a92332",
   "metadata": {},
   "outputs": [],
   "source": [
    "import pandas as pd"
   ]
  },
  {
   "cell_type": "markdown",
   "id": "f0582e53-efdd-45d9-aed6-8348958a5d1d",
   "metadata": {},
   "source": [
    "df = pd.read_excle('file_name.xlsx')\n",
    "print(df)"
   ]
  },
  {
   "cell_type": "code",
   "execution_count": null,
   "id": "d56554be-fc0b-4e68-939d-c3f691d33c2c",
   "metadata": {},
   "outputs": [],
   "source": [
    "Q7. You have a Pandas DataFrame df that contains a column named 'Email' that contains email\n",
    "addresses in the format 'username@domain.com'. Write a Python function that creates a new column\n",
    "'Username' in df that contains only the username part of each email address."
   ]
  },
  {
   "cell_type": "code",
   "execution_count": 7,
   "id": "593541b2-6b05-4573-a153-34b94217f35f",
   "metadata": {},
   "outputs": [],
   "source": [
    "import pandas as pd"
   ]
  },
  {
   "cell_type": "code",
   "execution_count": 8,
   "id": "8d3ee2e7-ca2d-4491-8fc9-f0839f052b36",
   "metadata": {},
   "outputs": [
    {
     "name": "stdout",
     "output_type": "stream",
     "text": [
      "               Email Username\n",
      "0  user1@example.com    user1\n",
      "1     user2@test.com    user2\n",
      "2   user3@domain.com    user3\n"
     ]
    }
   ],
   "source": [
    "def add_username_column(df):\n",
    "    df['Username']=df['Email'].str.split('@').str[0]\n",
    "    return df\n",
    "data = {'Email':['user1@example.com','user2@test.com','user3@domain.com']}\n",
    "df= pd.DataFrame(data)\n",
    "df=add_username_column(df)\n",
    "print(df)"
   ]
  },
  {
   "cell_type": "code",
   "execution_count": null,
   "id": "8c76720e-d13d-4ab9-bf04-5ef1a60a3b8c",
   "metadata": {},
   "outputs": [],
   "source": [
    "Q8. You have a Pandas DataFrame df with columns 'A', 'B', and 'C'. Write a Python function that selects\n",
    "all rows where the value in column 'A' is greater than 5 and the value in column 'B' is less than 10. The\n",
    "function should return a new DataFrame that contains only the selected rows."
   ]
  },
  {
   "cell_type": "code",
   "execution_count": 9,
   "id": "ecf745d4-02c2-45b3-b35d-854653238fba",
   "metadata": {},
   "outputs": [],
   "source": [
    "import pandas as pd"
   ]
  },
  {
   "cell_type": "code",
   "execution_count": 10,
   "id": "508ad9ca-9f5a-4ac3-9fe1-0134a93ccfcd",
   "metadata": {},
   "outputs": [
    {
     "name": "stdout",
     "output_type": "stream",
     "text": [
      "    A  B  C\n",
      "1  18  2  7\n",
      "2  26  9  4\n",
      "3  32  3  5\n",
      "4  49  1  2\n"
     ]
    }
   ],
   "source": [
    "def filter_dataframe(df):\n",
    "    filtered_df =df[(df['A']>5) & (df['B']<10)]\n",
    "    return filtered_df\n",
    "data = {\n",
    "    'A':[3,18,26,32,49],\n",
    "    'B':[5,2,9,3,1],\n",
    "    'C':[1,7,4,5,2]}\n",
    "df=pd.DataFrame(data)\n",
    "result_df=filter_dataframe(df)\n",
    "print(result_df)"
   ]
  },
  {
   "cell_type": "code",
   "execution_count": null,
   "id": "2895c797-7bd1-4e2e-b5b3-6484a9657f32",
   "metadata": {},
   "outputs": [],
   "source": [
    "Q9. Given a Pandas DataFrame df with a column 'Values', write a Python function to calculate the mean,\n",
    "median, and standard deviation of the values in the 'Values' column."
   ]
  },
  {
   "cell_type": "code",
   "execution_count": 11,
   "id": "8bdfdb4b-23a4-4fa8-bdb9-f00ab260baa3",
   "metadata": {},
   "outputs": [],
   "source": [
    "import pandas as pd"
   ]
  },
  {
   "cell_type": "code",
   "execution_count": 12,
   "id": "9927c2ae-3131-4144-b41c-f80a6c64e76f",
   "metadata": {},
   "outputs": [],
   "source": [
    "def calculate_statistics(df):\n",
    "    if 'Value' not in df.columns:\n",
    "        raise ValueError(\"DataFrame must contain a 'Value' column\")\n",
    "        mean_value = df['value'].mean()\n",
    "        median_value = df['Value'].median()\n",
    "        std_dev_value = df['value'].std()\n",
    "        \n",
    "        return mean_value,median_value,std_dev_value"
   ]
  },
  {
   "cell_type": "code",
   "execution_count": null,
   "id": "789bcba5-76cb-4a2b-9e2e-7572786871ed",
   "metadata": {},
   "outputs": [],
   "source": [
    "Q11. You have a Pandas DataFrame df with a column 'Date'. Write a Python function that creates a new\n",
    "column 'Weekday' in the DataFrame. The 'Weekday' column should contain the weekday name (e.g.\n",
    "Monday, Tuesday) corresponding to each date in the 'Date' column."
   ]
  },
  {
   "cell_type": "code",
   "execution_count": 13,
   "id": "3fec05b8-29bc-4be1-9321-815a653759d9",
   "metadata": {},
   "outputs": [],
   "source": [
    "import pandas as pd"
   ]
  },
  {
   "cell_type": "code",
   "execution_count": 15,
   "id": "ed8d107b-a17d-4976-99a8-e5597e49749b",
   "metadata": {},
   "outputs": [
    {
     "name": "stdout",
     "output_type": "stream",
     "text": [
      "        Date    Weekday\n",
      "0 2023-01-01     Sunday\n",
      "1 2023-01-02     Monday\n",
      "2 2023-01-03    Tuesday\n",
      "3 2023-01-04  Wednesday\n",
      "4 2023-01-05   Thursday\n"
     ]
    }
   ],
   "source": [
    "def add_weekday_column(df):\n",
    "    df['Date']=pd.to_datetime(df['Date'])\n",
    "    df['Weekday']= df['Date'].dt.day_name()\n",
    "    return df\n",
    "data = {\n",
    "    'Date':['2023-01-01','2023-01-02','2023-01-03','2023-01-04','2023-01-05']}\n",
    "df= pd.DataFrame(data)\n",
    "df= add_weekday_column(df)\n",
    "print(df)"
   ]
  },
  {
   "cell_type": "code",
   "execution_count": null,
   "id": "af53d274-04f6-4e3b-9608-f9362768c382",
   "metadata": {},
   "outputs": [],
   "source": [
    "Q12. Given a Pandas DataFrame df with a column 'Date' that contains timestamps, write a Python\n",
    "function to select all rows where the date is between '2023-01-01' and '2023-01-31'."
   ]
  },
  {
   "cell_type": "code",
   "execution_count": 17,
   "id": "3bd7cf68-00f8-43b9-b4d4-a91d63edef97",
   "metadata": {},
   "outputs": [],
   "source": [
    "import pandas as pd"
   ]
  },
  {
   "cell_type": "code",
   "execution_count": 18,
   "id": "51228ee5-5d14-429e-95c5-1853c23a3bb4",
   "metadata": {},
   "outputs": [
    {
     "name": "stdout",
     "output_type": "stream",
     "text": [
      "        Date\n",
      "0 2023-01-01\n",
      "1 2023-01-15\n",
      "3 2023-01-25\n"
     ]
    }
   ],
   "source": [
    "def filter_dates(df):\n",
    "    df['Date'] = pd.to_datetime(df['Date'])\n",
    "    start_date ='2023-01-01'\n",
    "    end_date = '2023-01-31'\n",
    "    mask =(df['Date']>=start_date) & (df['Date']<=end_date)\n",
    "    filtered_df = df.loc[mask]\n",
    "    return filtered_df\n",
    "data = {\n",
    "    'Date':['2023-01-01','2023-01-15','2023-02-01','2023-01-25','2022-12-31']}\n",
    "df= pd.DataFrame(data)\n",
    "filtered_df = filter_dates(df)\n",
    "print(filtered_df)"
   ]
  },
  {
   "cell_type": "code",
   "execution_count": null,
   "id": "2655653e-8fda-4298-937b-33ec57364d0c",
   "metadata": {},
   "outputs": [],
   "source": [
    "Q13. To use the basic functions of pandas, what is the first and foremost necessary library that needs to\n",
    "be imported?"
   ]
  },
  {
   "cell_type": "code",
   "execution_count": null,
   "id": "985fc62d-aace-4183-932b-cc58ce87da6e",
   "metadata": {},
   "outputs": [],
   "source": []
  }
 ],
 "metadata": {
  "kernelspec": {
   "display_name": "Python 3 (ipykernel)",
   "language": "python",
   "name": "python3"
  },
  "language_info": {
   "codemirror_mode": {
    "name": "ipython",
    "version": 3
   },
   "file_extension": ".py",
   "mimetype": "text/x-python",
   "name": "python",
   "nbconvert_exporter": "python",
   "pygments_lexer": "ipython3",
   "version": "3.10.8"
  }
 },
 "nbformat": 4,
 "nbformat_minor": 5
}
